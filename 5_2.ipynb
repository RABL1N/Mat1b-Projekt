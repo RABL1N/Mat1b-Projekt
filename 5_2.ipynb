{
 "cells": [
  {
   "cell_type": "code",
   "execution_count": 1,
   "metadata": {},
   "outputs": [],
   "source": [
    "\n",
    "from sympy import *\n",
    "init_printing()\n",
    "\n",
    "import numpy as np\n",
    "import matplotlib.pyplot as plt\n"
   ]
  },
  {
   "cell_type": "markdown",
   "metadata": {},
   "source": [
    "Venstre kant"
   ]
  },
  {
   "cell_type": "code",
   "execution_count": 4,
   "metadata": {},
   "outputs": [
    {
     "data": {
      "image/png": "[encoded data removed]",
      "text/latex": [
       "$\\displaystyle x \\cos{\\left(\\phi \\right)} + y \\sin{\\left(\\phi \\right)} = \\rho$"
      ],
      "text/plain": [
       "x⋅cos(φ) + y⋅sin(φ) = ρ"
      ]
     },
     "execution_count": 4,
     "metadata": {},
     "output_type": "execute_result"
    }
   ],
   "source": [
    "x,y,x0,y0,x1,y1,phi,rho = symbols(\"x,y,x0,y0,x1,y1,phi,rho\")\n",
    "eq = Eq(x*cos(phi)+y*sin(phi),rho)\n",
    "eq"
   ]
  },
  {
   "cell_type": "code",
   "execution_count": 16,
   "metadata": {},
   "outputs": [
    {
     "data": {
      "image/png": "[encoded data removed]",
      "text/latex": [
       "$\\displaystyle \\frac{\\rho - x_{0} \\cos{\\left(\\phi \\right)}}{\\sin{\\left(\\phi \\right)}}$"
      ],
      "text/plain": [
       "ρ - x₀⋅cos(φ)\n",
       "─────────────\n",
       "    sin(φ)   "
      ]
     },
     "execution_count": 16,
     "metadata": {},
     "output_type": "execute_result"
    }
   ],
   "source": [
    "solve(eq,y)[0].subs({x:x0})"
   ]
  },
  {
   "cell_type": "markdown",
   "metadata": {},
   "source": [
    "Høre kant"
   ]
  },
  {
   "cell_type": "code",
   "execution_count": 17,
   "metadata": {},
   "outputs": [
    {
     "data": {
      "image/png": "[encoded data removed]",
      "text/latex": [
       "$\\displaystyle \\frac{\\rho - x_{1} \\cos{\\left(\\phi \\right)}}{\\sin{\\left(\\phi \\right)}}$"
      ],
      "text/plain": [
       "ρ - x₁⋅cos(φ)\n",
       "─────────────\n",
       "    sin(φ)   "
      ]
     },
     "execution_count": 17,
     "metadata": {},
     "output_type": "execute_result"
    }
   ],
   "source": [
    "solve(eq,y)[0].subs({x:x1})"
   ]
  },
  {
   "cell_type": "markdown",
   "metadata": {},
   "source": [
    "Øvre kant"
   ]
  },
  {
   "cell_type": "code",
   "execution_count": 18,
   "metadata": {},
   "outputs": [
    {
     "data": {
      "image/png": "[encoded data removed]",
      "text/latex": [
       "$\\displaystyle \\frac{\\rho - y_{1} \\sin{\\left(\\phi \\right)}}{\\cos{\\left(\\phi \\right)}}$"
      ],
      "text/plain": [
       "ρ - y₁⋅sin(φ)\n",
       "─────────────\n",
       "    cos(φ)   "
      ]
     },
     "execution_count": 18,
     "metadata": {},
     "output_type": "execute_result"
    }
   ],
   "source": [
    "solve(eq,x)[0].subs({y:y1})"
   ]
  },
  {
   "cell_type": "markdown",
   "metadata": {},
   "source": [
    "Nedre kant"
   ]
  },
  {
   "cell_type": "code",
   "execution_count": 19,
   "metadata": {},
   "outputs": [
    {
     "data": {
      "image/png": "[encoded data removed]",
      "text/latex": [
       "$\\displaystyle \\frac{\\rho - y_{0} \\sin{\\left(\\phi \\right)}}{\\cos{\\left(\\phi \\right)}}$"
      ],
      "text/plain": [
       "ρ - y₀⋅sin(φ)\n",
       "─────────────\n",
       "    cos(φ)   "
      ]
     },
     "execution_count": 19,
     "metadata": {},
     "output_type": "execute_result"
    }
   ],
   "source": [
    "solve(eq,x)[0].subs({y:y0})"
   ]
  },
  {
   "cell_type": "code",
   "execution_count": null,
   "metadata": {},
   "outputs": [],
   "source": []
  },
  {
   "cell_type": "code",
   "execution_count": null,
   "metadata": {},
   "outputs": [],
   "source": []
  },
  {
   "cell_type": "code",
   "execution_count": 20,
   "metadata": {},
   "outputs": [
    {
     "data": {
      "image/png": "[encoded data removed]",
      "text/latex": [
       "$\\displaystyle \\frac{\\rho - x_{0} \\cos{\\left(\\phi \\right)}}{\\sin{\\left(\\phi \\right)}}$"
      ],
      "text/plain": [
       "ρ - x₀⋅cos(φ)\n",
       "─────────────\n",
       "    sin(φ)   "
      ]
     },
     "execution_count": 20,
     "metadata": {},
     "output_type": "execute_result"
    }
   ],
   "source": [
    "x,y,x0,y0,x1,y1,phi,rho = symbols(\"x,y,x0,y0,x1,y1,phi,rho\")\n",
    "eq = Eq(x*cos(phi)+y*sin(phi),rho)\n",
    "eq\n",
    "solve(eq,y)[0].subs({x:x0})"
   ]
  },
  {
   "cell_type": "code",
   "execution_count": 25,
   "metadata": {},
   "outputs": [
    {
     "data": {
      "image/png": "[encoded data removed]",
      "text/latex": [
       "$\\displaystyle \\left( x_{0}, \\  \\frac{\\rho - x_{0} \\cos{\\left(\\phi \\right)}}{\\sin{\\left(\\phi \\right)}}\\right)$"
      ],
      "text/plain": [
       "⎛    ρ - x₀⋅cos(φ)⎞\n",
       "⎜x₀, ─────────────⎟\n",
       "⎝        sin(φ)   ⎠"
      ]
     },
     "execution_count": 25,
     "metadata": {},
     "output_type": "execute_result"
    }
   ],
   "source": [
    "vy = solve(eq,y)[0].subs({x:x0})\n",
    "vx = x0\n",
    "vx,vy"
   ]
  },
  {
   "cell_type": "code",
   "execution_count": 26,
   "metadata": {},
   "outputs": [
    {
     "data": {
      "image/png": "[encoded data removed]",
      "text/latex": [
       "$\\displaystyle \\left( x_{1}, \\  \\frac{\\rho - x_{1} \\cos{\\left(\\phi \\right)}}{\\sin{\\left(\\phi \\right)}}\\right)$"
      ],
      "text/plain": [
       "⎛    ρ - x₁⋅cos(φ)⎞\n",
       "⎜x₁, ─────────────⎟\n",
       "⎝        sin(φ)   ⎠"
      ]
     },
     "execution_count": 26,
     "metadata": {},
     "output_type": "execute_result"
    }
   ],
   "source": [
    "hy =solve(eq,y)[0].subs({x:x1})\n",
    "hx = x1\n",
    "hx,hy"
   ]
  },
  {
   "cell_type": "code",
   "execution_count": 27,
   "metadata": {},
   "outputs": [
    {
     "data": {
      "image/png": "[encoded data removed]",
      "text/latex": [
       "$\\displaystyle \\left( \\frac{\\rho - y_{1} \\sin{\\left(\\phi \\right)}}{\\cos{\\left(\\phi \\right)}}, \\  y_{1}\\right)$"
      ],
      "text/plain": [
       "⎛ρ - y₁⋅sin(φ)    ⎞\n",
       "⎜─────────────, y₁⎟\n",
       "⎝    cos(φ)       ⎠"
      ]
     },
     "execution_count": 27,
     "metadata": {},
     "output_type": "execute_result"
    }
   ],
   "source": [
    "tx = solve(eq,x)[0].subs({y:y1})\n",
    "ty = y1\n",
    "tx,ty"
   ]
  },
  {
   "cell_type": "code",
   "execution_count": 28,
   "metadata": {},
   "outputs": [
    {
     "data": {
      "image/png": "[encoded data removed]",
      "text/latex": [
       "$\\displaystyle \\left( \\frac{\\rho - y_{0} \\sin{\\left(\\phi \\right)}}{\\cos{\\left(\\phi \\right)}}, \\  y_{0}\\right)$"
      ],
      "text/plain": [
       "⎛ρ - y₀⋅sin(φ)    ⎞\n",
       "⎜─────────────, y₀⎟\n",
       "⎝    cos(φ)       ⎠"
      ]
     },
     "execution_count": 28,
     "metadata": {},
     "output_type": "execute_result"
    }
   ],
   "source": [
    "bx = solve(eq,x)[0].subs({y:y0})\n",
    "by = y0\n",
    "bx,by"
   ]
  },
  {
   "cell_type": "code",
   "execution_count": 33,
   "metadata": {},
   "outputs": [
    {
     "data": {
      "image/png": "[encoded data removed]",
      "text/latex": [
       "$\\displaystyle \\left( x_{0}, \\  y_{0}\\right)$"
      ],
      "text/plain": [
       "(x₀, y₀)"
      ]
     },
     "execution_count": 33,
     "metadata": {},
     "output_type": "execute_result"
    }
   ],
   "source": [
    "x0,y0"
   ]
  },
  {
   "cell_type": "code",
   "execution_count": 30,
   "metadata": {},
   "outputs": [
    {
     "data": {
      "image/png": "[encoded data removed]",
      "text/latex": [
       "$\\displaystyle \\left( x_{1}, \\  y_{1}\\right)$"
      ],
      "text/plain": [
       "(x₁, y₁)"
      ]
     },
     "execution_count": 30,
     "metadata": {},
     "output_type": "execute_result"
    }
   ],
   "source": [
    "x1,y1"
   ]
  },
  {
   "cell_type": "code",
   "execution_count": 31,
   "metadata": {},
   "outputs": [
    {
     "data": {
      "image/png": "[encoded data removed]",
      "text/latex": [
       "$\\displaystyle \\left( x_{0}, \\  y_{1}\\right)$"
      ],
      "text/plain": [
       "(x₀, y₁)"
      ]
     },
     "execution_count": 31,
     "metadata": {},
     "output_type": "execute_result"
    }
   ],
   "source": [
    "x0,y1"
   ]
  },
  {
   "cell_type": "code",
   "execution_count": 32,
   "metadata": {},
   "outputs": [
    {
     "data": {
      "image/png": "[encoded data removed]",
      "text/latex": [
       "$\\displaystyle \\left( x_{1}, \\  y_{0}\\right)$"
      ],
      "text/plain": [
       "(x₁, y₀)"
      ]
     },
     "execution_count": 32,
     "metadata": {},
     "output_type": "execute_result"
    }
   ],
   "source": [
    "x1,y0"
   ]
  },
  {
   "cell_type": "markdown",
   "metadata": {},
   "source": [
    "Afstande"
   ]
  },
  {
   "cell_type": "markdown",
   "metadata": {},
   "source": [
    "venstre til højre"
   ]
  },
  {
   "cell_type": "code",
   "execution_count": 34,
   "metadata": {},
   "outputs": [
    {
     "data": {
      "image/png": "[encoded data removed]",
      "text/latex": [
       "$\\displaystyle \\sqrt{\\left(- x_{0} + x_{1}\\right)^{2} + \\left(- \\frac{\\rho - x_{0} \\cos{\\left(\\phi \\right)}}{\\sin{\\left(\\phi \\right)}} + \\frac{\\rho - x_{1} \\cos{\\left(\\phi \\right)}}{\\sin{\\left(\\phi \\right)}}\\right)^{2}}$"
      ],
      "text/plain": [
       "     __________________________________________________\n",
       "    ╱                                                2 \n",
       "   ╱            2   ⎛  ρ - x₀⋅cos(φ)   ρ - x₁⋅cos(φ)⎞  \n",
       "  ╱   (-x₀ + x₁)  + ⎜- ───────────── + ─────────────⎟  \n",
       "╲╱                  ⎝      sin(φ)          sin(φ)   ⎠  "
      ]
     },
     "execution_count": 34,
     "metadata": {},
     "output_type": "execute_result"
    }
   ],
   "source": [
    "vh = sqrt((hx-vx)**2+(hy-vy)**2)\n",
    "vh"
   ]
  },
  {
   "cell_type": "markdown",
   "metadata": {},
   "source": [
    "Top til højre"
   ]
  },
  {
   "cell_type": "code",
   "execution_count": 35,
   "metadata": {},
   "outputs": [
    {
     "data": {
      "image/png": "[encoded data removed]",
      "text/latex": [
       "$\\displaystyle \\sqrt{y_{1} - \\frac{\\rho - x_{1} \\cos{\\left(\\phi \\right)}}{\\sin{\\left(\\phi \\right)}} + \\left(- x_{1} + \\frac{\\rho - y_{1} \\sin{\\left(\\phi \\right)}}{\\cos{\\left(\\phi \\right)}}\\right)^{2}}$"
      ],
      "text/plain": [
       "     _____________________________________________\n",
       "    ╱                                           2 \n",
       "   ╱       ρ - x₁⋅cos(φ)   ⎛      ρ - y₁⋅sin(φ)⎞  \n",
       "  ╱   y₁ - ───────────── + ⎜-x₁ + ─────────────⎟  \n",
       "╲╱             sin(φ)      ⎝          cos(φ)   ⎠  "
      ]
     },
     "execution_count": 35,
     "metadata": {},
     "output_type": "execute_result"
    }
   ],
   "source": [
    "th = sqrt((tx-hx)**2+(ty-hy))\n",
    "th"
   ]
  },
  {
   "cell_type": "markdown",
   "metadata": {},
   "source": [
    "Bund til højre"
   ]
  },
  {
   "cell_type": "code",
   "execution_count": 36,
   "metadata": {},
   "outputs": [
    {
     "data": {
      "image/png": "[encoded data removed]",
      "text/latex": [
       "$\\displaystyle \\sqrt{\\left(- x_{1} + \\frac{\\rho - y_{0} \\sin{\\left(\\phi \\right)}}{\\cos{\\left(\\phi \\right)}}\\right)^{2} + \\left(y_{0} - \\frac{\\rho - x_{1} \\cos{\\left(\\phi \\right)}}{\\sin{\\left(\\phi \\right)}}\\right)^{2}}$"
      ],
      "text/plain": [
       "     ________________________________________________\n",
       "    ╱                      2                       2 \n",
       "   ╱  ⎛      ρ - y₀⋅sin(φ)⎞    ⎛     ρ - x₁⋅cos(φ)⎞  \n",
       "  ╱   ⎜-x₁ + ─────────────⎟  + ⎜y₀ - ─────────────⎟  \n",
       "╲╱    ⎝          cos(φ)   ⎠    ⎝         sin(φ)   ⎠  "
      ]
     },
     "execution_count": 36,
     "metadata": {},
     "output_type": "execute_result"
    }
   ],
   "source": [
    "bh = sqrt((bx-hx)**2+(by-hy)**2)\n",
    "bh"
   ]
  },
  {
   "cell_type": "markdown",
   "metadata": {},
   "source": [
    "Venstre til top"
   ]
  },
  {
   "cell_type": "code",
   "execution_count": 37,
   "metadata": {},
   "outputs": [
    {
     "data": {
      "image/png": "[encoded data removed]",
      "text/latex": [
       "$\\displaystyle \\sqrt{\\left(x_{0} - \\frac{\\rho - y_{1} \\sin{\\left(\\phi \\right)}}{\\cos{\\left(\\phi \\right)}}\\right)^{2} + \\left(- y_{1} + \\frac{\\rho - x_{0} \\cos{\\left(\\phi \\right)}}{\\sin{\\left(\\phi \\right)}}\\right)^{2}}$"
      ],
      "text/plain": [
       "     ________________________________________________\n",
       "    ╱                     2                        2 \n",
       "   ╱  ⎛     ρ - y₁⋅sin(φ)⎞    ⎛      ρ - x₀⋅cos(φ)⎞  \n",
       "  ╱   ⎜x₀ - ─────────────⎟  + ⎜-y₁ + ─────────────⎟  \n",
       "╲╱    ⎝         cos(φ)   ⎠    ⎝          sin(φ)   ⎠  "
      ]
     },
     "execution_count": 37,
     "metadata": {},
     "output_type": "execute_result"
    }
   ],
   "source": [
    "vt = sqrt((vx-tx)**2+(vy-ty)**2)\n",
    "vt"
   ]
  },
  {
   "cell_type": "markdown",
   "metadata": {},
   "source": [
    "Venstre til bund"
   ]
  },
  {
   "cell_type": "code",
   "execution_count": 38,
   "metadata": {},
   "outputs": [
    {
     "data": {
      "image/png": "[encoded data removed]",
      "text/latex": [
       "$\\displaystyle \\sqrt{\\left(x_{0} - \\frac{\\rho - y_{0} \\sin{\\left(\\phi \\right)}}{\\cos{\\left(\\phi \\right)}}\\right)^{2} + \\left(- y_{0} + \\frac{\\rho - x_{0} \\cos{\\left(\\phi \\right)}}{\\sin{\\left(\\phi \\right)}}\\right)^{2}}$"
      ],
      "text/plain": [
       "     ________________________________________________\n",
       "    ╱                     2                        2 \n",
       "   ╱  ⎛     ρ - y₀⋅sin(φ)⎞    ⎛      ρ - x₀⋅cos(φ)⎞  \n",
       "  ╱   ⎜x₀ - ─────────────⎟  + ⎜-y₀ + ─────────────⎟  \n",
       "╲╱    ⎝         cos(φ)   ⎠    ⎝          sin(φ)   ⎠  "
      ]
     },
     "execution_count": 38,
     "metadata": {},
     "output_type": "execute_result"
    }
   ],
   "source": [
    "vb = sqrt((vx-bx)**2+(vy-by)**2)\n",
    "vb"
   ]
  },
  {
   "cell_type": "markdown",
   "metadata": {},
   "source": [
    "Top til bund"
   ]
  },
  {
   "cell_type": "code",
   "execution_count": 39,
   "metadata": {},
   "outputs": [
    {
     "data": {
      "image/png": "[encoded data removed]",
      "text/latex": [
       "$\\displaystyle \\sqrt{\\left(- y_{0} + y_{1}\\right)^{2} + \\left(- \\frac{\\rho - y_{0} \\sin{\\left(\\phi \\right)}}{\\cos{\\left(\\phi \\right)}} + \\frac{\\rho - y_{1} \\sin{\\left(\\phi \\right)}}{\\cos{\\left(\\phi \\right)}}\\right)^{2}}$"
      ],
      "text/plain": [
       "     __________________________________________________\n",
       "    ╱                                                2 \n",
       "   ╱            2   ⎛  ρ - y₀⋅sin(φ)   ρ - y₁⋅sin(φ)⎞  \n",
       "  ╱   (-y₀ + y₁)  + ⎜- ───────────── + ─────────────⎟  \n",
       "╲╱                  ⎝      cos(φ)          cos(φ)   ⎠  "
      ]
     },
     "execution_count": 39,
     "metadata": {},
     "output_type": "execute_result"
    }
   ],
   "source": [
    "tb = sqrt((tx-bx)**2+(ty-by)**2)\n",
    "tb"
   ]
  }
 ],
 "metadata": {
  "kernelspec": {
   "display_name": ".venv",
   "language": "python",
   "name": "python3"
  },
  "language_info": {
   "codemirror_mode": {
    "name": "ipython",
    "version": 3
   },
   "file_extension": ".py",
   "mimetype": "text/x-python",
   "name": "python",
   "nbconvert_exporter": "python",
   "pygments_lexer": "ipython3",
   "version": "3.11.1"
  }
 },
 "nbformat": 4,
 "nbformat_minor": 2
}
