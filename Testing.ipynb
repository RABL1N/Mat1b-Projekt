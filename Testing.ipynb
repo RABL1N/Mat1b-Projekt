{
 "cells": [
  {
   "cell_type": "code",
   "execution_count": 1,
   "metadata": {},
   "outputs": [],
   "source": [
    "from sympy import *\n",
    "init_printing()\n",
    "\n",
    "import numpy as np\n",
    "import matplotlib.pyplot as plt"
   ]
  },
  {
   "cell_type": "code",
   "execution_count": 81,
   "metadata": {},
   "outputs": [
    {
     "data": {
      "text/plain": [
       "(True, False, False, True, False)"
      ]
     },
     "execution_count": 81,
     "metadata": {},
     "output_type": "execute_result"
    }
   ],
   "source": [
    "\n",
    "def intersect_cell(i,j,a,N,rho,phi):\n",
    "\n",
    "    \n",
    "    x0 = (2*a/N)*(i)-a\n",
    "    x1 = (2*a/N)*(i)-a+(2*a/N)\n",
    "    y0 = (2*a/N)*(j)-a\n",
    "    y1 = (2*a/N)*(j)-a+(2*a/N)\n",
    "\n",
    "    x,y= symbols(\"x,y\")\n",
    "    eq = Eq(x*cos(phi)+y*sin(phi),rho)\n",
    "    eq\n",
    "\n",
    "    #return (x0,y0),(x1,y1)\n",
    "\n",
    "    left = False\n",
    "    right = False\n",
    "    top = False\n",
    "    bottom = False\n",
    "    diagonal = False\n",
    "\n",
    "    \n",
    "    #left\n",
    "    if (len(solve(eq,y))!=0) and (y0 < solve(eq,y)[0].subs({x:x0}) < y1):\n",
    "        left = True\n",
    "\n",
    "    #right\n",
    "    if (len(solve(eq,y))!=0) and (y0 < solve(eq,y)[0].subs({x:x1}) < y1):\n",
    "        right = True\n",
    "        \n",
    "    #top\n",
    "    if (len(solve(eq,x))!=0) and (x0 < solve(eq,x)[0].subs({y:y1}) < x1):\n",
    "        top = True\n",
    "        \n",
    "    #bottom\n",
    "    if (len(solve(eq,x))!=0) and (x0 < solve(eq,x)[0].subs({y:y0}) < x1):\n",
    "        bottom = True\n",
    "\n",
    "    #diagonals\n",
    "    if rho == 0 and (phi == 3*pi/4 or phi == 7*pi/4):\n",
    "        diagonal = True\n",
    "    \n",
    "    return left, right, top, bottom, diagonal\n",
    "    \n",
    "#intersect_cell(2,2,2,4,0.6,7*pi/4)\n",
    "intersect_cell(0,3,2,4,0.3,5*pi/4)"
   ]
  },
  {
   "cell_type": "code",
   "execution_count": 80,
   "metadata": {},
   "outputs": [
    {
     "name": "stdout",
     "output_type": "stream",
     "text": [
      "(0.0, -1.0) (1.0, 0.0)\n"
     ]
    },
    {
     "data": {
      "image/png": "[encoded data removed]",
      "text/latex": [
       "$\\displaystyle -0.424264068711929$"
      ],
      "text/plain": [
       "-0.424264068711929"
      ]
     },
     "execution_count": 80,
     "metadata": {},
     "output_type": "execute_result"
    }
   ],
   "source": [
    "phi = 5*pi/4\n",
    "rho=0.3\n",
    "a = 2\n",
    "N = 4\n",
    "i = 2\n",
    "j = 1\n",
    "\n",
    "x0 = (2*a/N)*(i)-a\n",
    "x1 = (2*a/N)*(i)-a+(2*a/N)\n",
    "y0 = (2*a/N)*(j)-a\n",
    "y1 = (2*a/N)*(j)-a+(2*a/N)\n",
    "\n",
    "x,y= symbols(\"x,y\")\n",
    "eq = Eq(x*cos(phi)+y*sin(phi),rho)\n",
    "eq\n",
    "\n",
    "print((x0,y0),(x1,y1))\n",
    "\n",
    "solve(eq,y)[0].subs({x:x0})\n"
   ]
  },
  {
   "cell_type": "code",
   "execution_count": 89,
   "metadata": {},
   "outputs": [],
   "source": [
    "\n",
    "def get_length(i, j, a, N, rho, phi):\n",
    "\n",
    "    x,y= symbols(\"x,y\")\n",
    "    eq = Eq(x*cos(phi)+y*sin(phi),rho)\n",
    "\n",
    "    x0 = (2*a/N)*(i)-a\n",
    "    x1 = (2*a/N)*(i)-a+(2*a/N)\n",
    "    y0 = (2*a/N)*(j)-a\n",
    "    y1 = (2*a/N)*(j)-a+(2*a/N)\n",
    "\n",
    "    if (len(solve(eq,y))!=0):\n",
    "        # left intersection\n",
    "        vy = solve(eq,y)[0].subs({x:x0})\n",
    "        vx = x0\n",
    "        \n",
    "        # right intersection\n",
    "        hy = solve(eq,y)[0].subs({x:x1})\n",
    "        hx = x1\n",
    "\n",
    "    if (len(solve(eq,x))!=0):\n",
    "        # top intersection\n",
    "        tx = solve(eq,x)[0].subs({y:y1})\n",
    "        ty = y1\n",
    "\n",
    "        # bottom intersection\n",
    "        bx = solve(eq,x)[0].subs({y:y0})\n",
    "        by = y0\n",
    "\n",
    "    index = intersect_cell(i, j, a, N, rho, phi)\n",
    "    #print(index)\n",
    "\n",
    "    if index[0] and index[1]:\n",
    "        #print(\"left and right\")\n",
    "        vh = sqrt((vx-hx)**2+(vy-hy)**2)\n",
    "        return vh\n",
    "\n",
    "    if index[0] and index[2]:\n",
    "        #print(\"left and top\")\n",
    "        vt = sqrt((vx-tx)**2+(vy-ty)**2)\n",
    "        return vt\n",
    "    \n",
    "    if index[0] and index[3]:\n",
    "        #print(\"left and bottom\")\n",
    "        vb = sqrt((vx-bx)**2+(vy-by)**2)\n",
    "        return vb\n",
    "\n",
    "    if index[1] and index[2]:\n",
    "        #print(\"right and top\")\n",
    "        th = sqrt((tx-hx)**2+(ty-hy)**2)\n",
    "        return th\n",
    "\n",
    "    if index[1] and index[3]:\n",
    "        #print(\"right and bottom\")\n",
    "        bh = sqrt((bx-hx)**2+(by-hy)**2)\n",
    "        return bh\n",
    "\n",
    "    if index[2] and index[3]:\n",
    "        #print(\"top and bottom\")\n",
    "        tb = sqrt((tx-bx)**2+(ty-by)**2)\n",
    "        return tb\n",
    "\n",
    "    if index[4]:\n",
    "        #print(\"diagonal\")\n",
    "        q0q1 = sqrt((x1-x0)**2+(y1-y0)**2)\n",
    "        return q0q1\n",
    "    \n",
    "\n",
    "#print(get_length(0,2,2,4,0.3,5*pi/4))"
   ]
  },
  {
   "cell_type": "code",
   "execution_count": 103,
   "metadata": {},
   "outputs": [],
   "source": [
    "\n",
    "def construct_A(a, N, rho_list, phi_list):\n",
    "    matrices = []\n",
    "\n",
    "    for laser in range(len(rho_list)):\n",
    "        rho = rho_list[laser]\n",
    "        phi = phi_list[laser]\n",
    "        cell_values = []  # Initialize cell_values inside the loop to reset it for each laser\n",
    "\n",
    "        for i in range(N):  # row\n",
    "            for j in range(N):  # col\n",
    "                length = get_length(i, j, a, N, rho, phi)\n",
    "                cell_values.append(length if length is not None else 0)\n",
    "\n",
    "        M = Matrix(N, N, cell_values)  # Create a matrix from the current list of cell values\n",
    "        matrices.append(M)  # Optionally store each matrix if you need to use all later\n",
    "        #print(M)  # Printing the matrix of the current laser\n",
    "    \n",
    "    matrices = flatten(matrices[0:N])\n",
    "\n",
    "    #A = Matrix(N,N,matrices)\n",
    "\n",
    "    return matrices\n",
    "\n",
    "    #return matrices  # Return the list of matrices if needed elsewhere\n"
   ]
  },
  {
   "cell_type": "code",
   "execution_count": 104,
   "metadata": {},
   "outputs": [
    {
     "data": {
      "image/png": "[encoded data removed]",
      "text/latex": [
       "$\\displaystyle \\left[ 0, \\  1.15470053837925, \\  0, \\  0, \\  0, \\  0.692820323027551, \\  0.461880215351701, \\  0, \\  0, \\  0, \\  1.15470053837925, \\  0, \\  0, \\  0, \\  0.383419246269048, \\  0.771281292110204, \\  0.214213562373095, \\  0, \\  0, \\  0, \\  1.2, \\  0.214213562373095, \\  0, \\  0, \\  0, \\  1.2, \\  0.214213562373095, \\  0, \\  0, \\  0, \\  1.2, \\  0.214213562373095, \\  0, \\  0, \\  0, \\  0, \\  0, \\  0, \\  0, \\  0, \\  1.0, \\  1.0, \\  1.0, \\  1.0, \\  0, \\  0, \\  0, \\  0, \\  0, \\  0, \\  0.6, \\  0.814213562373095, \\  0, \\  0.6, \\  0.814213562373095, \\  0, \\  0.6, \\  0.814213562373095, \\  0, \\  0, \\  0.814213562373095, \\  0, \\  0, \\  0\\right]$"
      ],
      "text/plain": [
       "[0, 1.15470053837925, 0, 0, 0, 0.692820323027551, 0.461880215351701, 0, 0, 0, \n",
       "1.15470053837925, 0, 0, 0, 0.383419246269048, 0.771281292110204, 0.21421356237\n",
       "3095, 0, 0, 0, 1.2, 0.214213562373095, 0, 0, 0, 1.2, 0.214213562373095, 0, 0, \n",
       "0, 1.2, 0.214213562373095, 0, 0, 0, 0, 0, 0, 0, 0, 1.0, 1.0, 1.0, 1.0, 0, 0, 0\n",
       ", 0, 0, 0, 0.6, 0.814213562373095, 0, 0.6, 0.814213562373095, 0, 0.6, 0.814213\n",
       "562373095, 0, 0, 0.814213562373095, 0, 0, 0]"
      ]
     },
     "execution_count": 104,
     "metadata": {},
     "output_type": "execute_result"
    }
   ],
   "source": [
    "#print(intersect_cell(2,2,2,4,0,pi/4))\n",
    "\n",
    "#print(get_length(2,2,2,4,0.1,5*pi/3))\n",
    "\n",
    "construct_A(2, 4, [0.2,0.6,0.3,0.3], [4*pi/6,7*pi/4,8*pi/4,5*pi/4])\n"
   ]
  }
 ],
 "metadata": {
  "kernelspec": {
   "display_name": ".venv",
   "language": "python",
   "name": "python3"
  },
  "language_info": {
   "codemirror_mode": {
    "name": "ipython",
    "version": 3
   },
   "file_extension": ".py",
   "mimetype": "text/x-python",
   "name": "python",
   "nbconvert_exporter": "python",
   "pygments_lexer": "ipython3",
   "version": "3.11.1"
  }
 },
 "nbformat": 4,
 "nbformat_minor": 2
}
